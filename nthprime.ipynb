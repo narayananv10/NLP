{
  "nbformat": 4,
  "nbformat_minor": 0,
  "metadata": {
    "colab": {
      "name": "nthprime.ipynb",
      "provenance": [],
      "include_colab_link": true
    },
    "kernelspec": {
      "name": "python3",
      "display_name": "Python 3"
    }
  },
  "cells": [
    {
      "cell_type": "markdown",
      "metadata": {
        "id": "view-in-github",
        "colab_type": "text"
      },
      "source": [
        "<a href=\"https://colab.research.google.com/github/narayananv10/NLP/blob/Classwork/nthprime.ipynb\" target=\"_parent\"><img src=\"https://colab.research.google.com/assets/colab-badge.svg\" alt=\"Open In Colab\"/></a>"
      ]
    },
    {
      "cell_type": "code",
      "metadata": {
        "id": "fjVF92WFneEr",
        "colab_type": "code",
        "colab": {}
      },
      "source": [
        "def nthprime(n):\n",
        "  prime_list = [2]\n",
        "  number = 3\n",
        "  while len(prime_list)!=n:\n",
        "    for no in prime_list:\n",
        "      if number % no == 0:\n",
        "        break\n",
        "    else:\n",
        "      prime_list.append(number)\n",
        "    number+=1\n",
        "  return prime_list[-1]"
      ],
      "execution_count": 0,
      "outputs": []
    },
    {
      "cell_type": "code",
      "metadata": {
        "id": "v4TlQmo_oHJQ",
        "colab_type": "code",
        "outputId": "2ca8873a-9c18-4cc6-dcfe-c9fb9928f6fa",
        "colab": {
          "base_uri": "https://localhost:8080/",
          "height": 34
        }
      },
      "source": [
        "nthprime(5)"
      ],
      "execution_count": 0,
      "outputs": [
        {
          "output_type": "execute_result",
          "data": {
            "text/plain": [
              "11"
            ]
          },
          "metadata": {
            "tags": []
          },
          "execution_count": 5
        }
      ]
    }
  ]
}