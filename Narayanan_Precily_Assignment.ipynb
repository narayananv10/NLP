{
  "nbformat": 4,
  "nbformat_minor": 0,
  "metadata": {
    "colab": {
      "name": "Narayanan_Precily_Assignment.ipynb",
      "provenance": [],
      "collapsed_sections": [],
      "authorship_tag": "ABX9TyMsGtLBK0d0i5KKeFood6Mf",
      "include_colab_link": true
    },
    "kernelspec": {
      "name": "python3",
      "display_name": "Python 3"
    },
    "accelerator": "GPU"
  },
  "cells": [
    {
      "cell_type": "markdown",
      "metadata": {
        "id": "view-in-github",
        "colab_type": "text"
      },
      "source": [
        "<a href=\"https://colab.research.google.com/github/narayananv10/NLP/blob/master/Narayanan_Precily_Assignment.ipynb\" target=\"_parent\"><img src=\"https://colab.research.google.com/assets/colab-badge.svg\" alt=\"Open In Colab\"/></a>"
      ]
    },
    {
      "cell_type": "code",
      "metadata": {
        "id": "pUlJclJkiJqo",
        "colab_type": "code",
        "colab": {
          "base_uri": "https://localhost:8080/",
          "height": 51
        },
        "outputId": "65004174-b680-42f2-91f8-7ee95d08a215"
      },
      "source": [
        "import pandas as pd\n",
        "import nltk\n",
        "from string import digits\n",
        "import re\n",
        "nltk.download('stopwords')\n",
        "from sklearn.feature_extraction.text import CountVectorizer\n",
        "from scipy.spatial import distance\n",
        "stop_words = stopwords.words('english')"
      ],
      "execution_count": 63,
      "outputs": [
        {
          "output_type": "stream",
          "text": [
            "[nltk_data] Downloading package stopwords to /root/nltk_data...\n",
            "[nltk_data]   Package stopwords is already up-to-date!\n"
          ],
          "name": "stdout"
        }
      ]
    },
    {
      "cell_type": "code",
      "metadata": {
        "id": "4rdMAU_7kNUQ",
        "colab_type": "code",
        "colab": {
          "base_uri": "https://localhost:8080/",
          "height": 235
        },
        "outputId": "c78c5547-9a37-4c87-903a-bfb6fbf588de"
      },
      "source": [
        "df = pd.read_csv('Text_Similarity_Dataset.csv',index_col=0)\n",
        "df.head()"
      ],
      "execution_count": 83,
      "outputs": [
        {
          "output_type": "execute_result",
          "data": {
            "text/html": [
              "<div>\n",
              "<style scoped>\n",
              "    .dataframe tbody tr th:only-of-type {\n",
              "        vertical-align: middle;\n",
              "    }\n",
              "\n",
              "    .dataframe tbody tr th {\n",
              "        vertical-align: top;\n",
              "    }\n",
              "\n",
              "    .dataframe thead th {\n",
              "        text-align: right;\n",
              "    }\n",
              "</style>\n",
              "<table border=\"1\" class=\"dataframe\">\n",
              "  <thead>\n",
              "    <tr style=\"text-align: right;\">\n",
              "      <th></th>\n",
              "      <th>text1</th>\n",
              "      <th>text2</th>\n",
              "    </tr>\n",
              "    <tr>\n",
              "      <th>Unique_ID</th>\n",
              "      <th></th>\n",
              "      <th></th>\n",
              "    </tr>\n",
              "  </thead>\n",
              "  <tbody>\n",
              "    <tr>\n",
              "      <th>0</th>\n",
              "      <td>savvy searchers fail to spot ads internet sear...</td>\n",
              "      <td>newcastle 2-1 bolton kieron dyer smashed home ...</td>\n",
              "    </tr>\n",
              "    <tr>\n",
              "      <th>1</th>\n",
              "      <td>millions to miss out on the net by 2025  40% o...</td>\n",
              "      <td>nasdaq planning $100m share sale the owner of ...</td>\n",
              "    </tr>\n",
              "    <tr>\n",
              "      <th>2</th>\n",
              "      <td>young debut cut short by ginepri fifteen-year-...</td>\n",
              "      <td>ruddock backs yapp s credentials wales coach m...</td>\n",
              "    </tr>\n",
              "    <tr>\n",
              "      <th>3</th>\n",
              "      <td>diageo to buy us wine firm diageo  the world s...</td>\n",
              "      <td>mci shares climb on takeover bid shares in us ...</td>\n",
              "    </tr>\n",
              "    <tr>\n",
              "      <th>4</th>\n",
              "      <td>be careful how you code a new european directi...</td>\n",
              "      <td>media gadgets get moving pocket-sized devices ...</td>\n",
              "    </tr>\n",
              "  </tbody>\n",
              "</table>\n",
              "</div>"
            ],
            "text/plain": [
              "                                                       text1                                              text2\n",
              "Unique_ID                                                                                                      \n",
              "0          savvy searchers fail to spot ads internet sear...  newcastle 2-1 bolton kieron dyer smashed home ...\n",
              "1          millions to miss out on the net by 2025  40% o...  nasdaq planning $100m share sale the owner of ...\n",
              "2          young debut cut short by ginepri fifteen-year-...  ruddock backs yapp s credentials wales coach m...\n",
              "3          diageo to buy us wine firm diageo  the world s...  mci shares climb on takeover bid shares in us ...\n",
              "4          be careful how you code a new european directi...  media gadgets get moving pocket-sized devices ..."
            ]
          },
          "metadata": {
            "tags": []
          },
          "execution_count": 83
        }
      ]
    },
    {
      "cell_type": "code",
      "metadata": {
        "id": "q5iGbx6XmnFd",
        "colab_type": "code",
        "colab": {
          "base_uri": "https://localhost:8080/",
          "height": 34
        },
        "outputId": "734ee95b-ce1b-4291-8a06-cd053e9e4fe2"
      },
      "source": [
        "print(len(df.text1[0]))"
      ],
      "execution_count": 84,
      "outputs": [
        {
          "output_type": "stream",
          "text": [
            "2865\n"
          ],
          "name": "stdout"
        }
      ]
    },
    {
      "cell_type": "code",
      "metadata": {
        "id": "Bjy7PyVll_cV",
        "colab_type": "code",
        "colab": {}
      },
      "source": [
        "def remove_stopwords(text):\n",
        "  token = text.split()\n",
        "  return ' '.join([w for w in token if not w in stop_words])"
      ],
      "execution_count": 0,
      "outputs": []
    },
    {
      "cell_type": "code",
      "metadata": {
        "id": "R_9Y4HnknemN",
        "colab_type": "code",
        "colab": {}
      },
      "source": [
        "def remove_punctuation(text):\n",
        "  translator = str.maketrans('', '', string.punctuation)\n",
        "  text = text.translate(translator)\n",
        "  return text"
      ],
      "execution_count": 0,
      "outputs": []
    },
    {
      "cell_type": "code",
      "metadata": {
        "id": "TGyRvI9sqe43",
        "colab_type": "code",
        "colab": {}
      },
      "source": [
        "def remove_num(text):\n",
        "  remove_digits = str.maketrans('', '', digits) \n",
        "  res = text.translate(remove_digits)\n",
        "  return res"
      ],
      "execution_count": 0,
      "outputs": []
    },
    {
      "cell_type": "code",
      "metadata": {
        "id": "FZWMZhJqoGb8",
        "colab_type": "code",
        "colab": {}
      },
      "source": [
        "def preprocess(text):\n",
        "  text = remove_stopwords(text)\n",
        "  text = remove_punctuation(text)\n",
        "  text = remove_num(text)\n",
        "  return text"
      ],
      "execution_count": 0,
      "outputs": []
    },
    {
      "cell_type": "code",
      "metadata": {
        "id": "ApibL67AmEXe",
        "colab_type": "code",
        "colab": {
          "base_uri": "https://localhost:8080/",
          "height": 235
        },
        "outputId": "2530fafc-7b45-4280-eaec-3dbdda5870b0"
      },
      "source": [
        "df.text1 = df.text1.apply(preprocess)\n",
        "df.text2 = df.text2.apply(preprocess)\n",
        "df.head()"
      ],
      "execution_count": 89,
      "outputs": [
        {
          "output_type": "execute_result",
          "data": {
            "text/html": [
              "<div>\n",
              "<style scoped>\n",
              "    .dataframe tbody tr th:only-of-type {\n",
              "        vertical-align: middle;\n",
              "    }\n",
              "\n",
              "    .dataframe tbody tr th {\n",
              "        vertical-align: top;\n",
              "    }\n",
              "\n",
              "    .dataframe thead th {\n",
              "        text-align: right;\n",
              "    }\n",
              "</style>\n",
              "<table border=\"1\" class=\"dataframe\">\n",
              "  <thead>\n",
              "    <tr style=\"text-align: right;\">\n",
              "      <th></th>\n",
              "      <th>text1</th>\n",
              "      <th>text2</th>\n",
              "    </tr>\n",
              "    <tr>\n",
              "      <th>Unique_ID</th>\n",
              "      <th></th>\n",
              "      <th></th>\n",
              "    </tr>\n",
              "  </thead>\n",
              "  <tbody>\n",
              "    <tr>\n",
              "      <th>0</th>\n",
              "      <td>savvy searchers fail spot ads internet search ...</td>\n",
              "      <td>newcastle  bolton kieron dyer smashed home win...</td>\n",
              "    </tr>\n",
              "    <tr>\n",
              "      <th>1</th>\n",
              "      <td>millions miss net   uk population still withou...</td>\n",
              "      <td>nasdaq planning m share sale owner technologyd...</td>\n",
              "    </tr>\n",
              "    <tr>\n",
              "      <th>2</th>\n",
              "      <td>young debut cut short ginepri fifteenyearold d...</td>\n",
              "      <td>ruddock backs yapp credentials wales coach mik...</td>\n",
              "    </tr>\n",
              "    <tr>\n",
              "      <th>3</th>\n",
              "      <td>diageo buy us wine firm diageo world biggest s...</td>\n",
              "      <td>mci shares climb takeover bid shares us phone ...</td>\n",
              "    </tr>\n",
              "    <tr>\n",
              "      <th>4</th>\n",
              "      <td>careful code new european directive could put ...</td>\n",
              "      <td>media gadgets get moving pocketsized devices l...</td>\n",
              "    </tr>\n",
              "  </tbody>\n",
              "</table>\n",
              "</div>"
            ],
            "text/plain": [
              "                                                       text1                                              text2\n",
              "Unique_ID                                                                                                      \n",
              "0          savvy searchers fail spot ads internet search ...  newcastle  bolton kieron dyer smashed home win...\n",
              "1          millions miss net   uk population still withou...  nasdaq planning m share sale owner technologyd...\n",
              "2          young debut cut short ginepri fifteenyearold d...  ruddock backs yapp credentials wales coach mik...\n",
              "3          diageo buy us wine firm diageo world biggest s...  mci shares climb takeover bid shares us phone ...\n",
              "4          careful code new european directive could put ...  media gadgets get moving pocketsized devices l..."
            ]
          },
          "metadata": {
            "tags": []
          },
          "execution_count": 89
        }
      ]
    },
    {
      "cell_type": "code",
      "metadata": {
        "id": "KkGArKdLmUHb",
        "colab_type": "code",
        "colab": {
          "base_uri": "https://localhost:8080/",
          "height": 34
        },
        "outputId": "789f34f5-5a23-4bb3-fa0e-9a4a21af1df0"
      },
      "source": [
        "print(len(df.text1[0]))"
      ],
      "execution_count": 90,
      "outputs": [
        {
          "output_type": "stream",
          "text": [
            "1874\n"
          ],
          "name": "stdout"
        }
      ]
    },
    {
      "cell_type": "code",
      "metadata": {
        "id": "gadyAdEboAuj",
        "colab_type": "code",
        "colab": {}
      },
      "source": [
        "def cosine_countvectorizer(p1, p2):\n",
        "    \n",
        "    allsentences = [p1,p2]\n",
        "    vectorizer = CountVectorizer()\n",
        "    all_sentences_to_vector = vectorizer.fit_transform(allsentences)\n",
        "    text_to_vector_v1 = all_sentences_to_vector.toarray()[0].tolist()\n",
        "    text_to_vector_v2 = all_sentences_to_vector.toarray()[1].tolist()\n",
        "    \n",
        "    # distance of similarity\n",
        "    cosine = distance.cosine(text_to_vector_v1, text_to_vector_v2)\n",
        "    return 1-cosine\n",
        "    "
      ],
      "execution_count": 0,
      "outputs": []
    },
    {
      "cell_type": "code",
      "metadata": {
        "id": "mH7i6-PvzKQJ",
        "colab_type": "code",
        "colab": {}
      },
      "source": [
        "df['Similarity'] = df.apply(lambda x: cosine_countvectorizer(x['text1'], x['text2']), axis=1)"
      ],
      "execution_count": 0,
      "outputs": []
    },
    {
      "cell_type": "code",
      "metadata": {
        "colab_type": "code",
        "outputId": "65aa12dd-5f09-44b3-f013-44aa4f7e3090",
        "id": "2jCEE1cAzIho",
        "colab": {
          "base_uri": "https://localhost:8080/",
          "height": 450
        }
      },
      "source": [
        "df.head(100)"
      ],
      "execution_count": 109,
      "outputs": [
        {
          "output_type": "execute_result",
          "data": {
            "text/html": [
              "<div>\n",
              "<style scoped>\n",
              "    .dataframe tbody tr th:only-of-type {\n",
              "        vertical-align: middle;\n",
              "    }\n",
              "\n",
              "    .dataframe tbody tr th {\n",
              "        vertical-align: top;\n",
              "    }\n",
              "\n",
              "    .dataframe thead th {\n",
              "        text-align: right;\n",
              "    }\n",
              "</style>\n",
              "<table border=\"1\" class=\"dataframe\">\n",
              "  <thead>\n",
              "    <tr style=\"text-align: right;\">\n",
              "      <th></th>\n",
              "      <th>text1</th>\n",
              "      <th>text2</th>\n",
              "      <th>Similarity</th>\n",
              "    </tr>\n",
              "    <tr>\n",
              "      <th>Unique_ID</th>\n",
              "      <th></th>\n",
              "      <th></th>\n",
              "      <th></th>\n",
              "    </tr>\n",
              "  </thead>\n",
              "  <tbody>\n",
              "    <tr>\n",
              "      <th>0</th>\n",
              "      <td>savvy searchers fail spot ads internet search ...</td>\n",
              "      <td>newcastle  bolton kieron dyer smashed home win...</td>\n",
              "      <td>0.041380</td>\n",
              "    </tr>\n",
              "    <tr>\n",
              "      <th>1</th>\n",
              "      <td>millions miss net   uk population still withou...</td>\n",
              "      <td>nasdaq planning m share sale owner technologyd...</td>\n",
              "      <td>0.058729</td>\n",
              "    </tr>\n",
              "    <tr>\n",
              "      <th>2</th>\n",
              "      <td>young debut cut short ginepri fifteenyearold d...</td>\n",
              "      <td>ruddock backs yapp credentials wales coach mik...</td>\n",
              "      <td>0.081508</td>\n",
              "    </tr>\n",
              "    <tr>\n",
              "      <th>3</th>\n",
              "      <td>diageo buy us wine firm diageo world biggest s...</td>\n",
              "      <td>mci shares climb takeover bid shares us phone ...</td>\n",
              "      <td>0.166445</td>\n",
              "    </tr>\n",
              "    <tr>\n",
              "      <th>4</th>\n",
              "      <td>careful code new european directive could put ...</td>\n",
              "      <td>media gadgets get moving pocketsized devices l...</td>\n",
              "      <td>0.116485</td>\n",
              "    </tr>\n",
              "    <tr>\n",
              "      <th>...</th>\n",
              "      <td>...</td>\n",
              "      <td>...</td>\n",
              "      <td>...</td>\n",
              "    </tr>\n",
              "    <tr>\n",
              "      <th>95</th>\n",
              "      <td>uk coal plunges deeper loss shares uk coal fal...</td>\n",
              "      <td>xbox  may unveiled summer details next generat...</td>\n",
              "      <td>0.084144</td>\n",
              "    </tr>\n",
              "    <tr>\n",
              "      <th>96</th>\n",
              "      <td>taylor poised scotland return simon taylor nam...</td>\n",
              "      <td>iranian misses israel match iranian striker va...</td>\n",
              "      <td>0.031724</td>\n",
              "    </tr>\n",
              "    <tr>\n",
              "      <th>97</th>\n",
              "      <td>orange colour clash set court row colour orang...</td>\n",
              "      <td>economy strong election year uk businesses set...</td>\n",
              "      <td>0.064250</td>\n",
              "    </tr>\n",
              "    <tr>\n",
              "      <th>98</th>\n",
              "      <td>london hope chepkemei london marathon organise...</td>\n",
              "      <td>talks aim avert pension strike talks aimed ave...</td>\n",
              "      <td>0.053692</td>\n",
              "    </tr>\n",
              "    <tr>\n",
              "      <th>99</th>\n",
              "      <td>egypt israel seal trade deal sign thaw relatio...</td>\n",
              "      <td>delta cuts fares survival plan delta air lines...</td>\n",
              "      <td>0.072732</td>\n",
              "    </tr>\n",
              "  </tbody>\n",
              "</table>\n",
              "<p>100 rows × 3 columns</p>\n",
              "</div>"
            ],
            "text/plain": [
              "                                                       text1  ... Similarity\n",
              "Unique_ID                                                     ...           \n",
              "0          savvy searchers fail spot ads internet search ...  ...   0.041380\n",
              "1          millions miss net   uk population still withou...  ...   0.058729\n",
              "2          young debut cut short ginepri fifteenyearold d...  ...   0.081508\n",
              "3          diageo buy us wine firm diageo world biggest s...  ...   0.166445\n",
              "4          careful code new european directive could put ...  ...   0.116485\n",
              "...                                                      ...  ...        ...\n",
              "95         uk coal plunges deeper loss shares uk coal fal...  ...   0.084144\n",
              "96         taylor poised scotland return simon taylor nam...  ...   0.031724\n",
              "97         orange colour clash set court row colour orang...  ...   0.064250\n",
              "98         london hope chepkemei london marathon organise...  ...   0.053692\n",
              "99         egypt israel seal trade deal sign thaw relatio...  ...   0.072732\n",
              "\n",
              "[100 rows x 3 columns]"
            ]
          },
          "metadata": {
            "tags": []
          },
          "execution_count": 109
        }
      ]
    }
  ]
}