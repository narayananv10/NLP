{
  "nbformat": 4,
  "nbformat_minor": 0,
  "metadata": {
    "colab": {
      "name": "Not_B_Not_G.ipynb",
      "provenance": [],
      "include_colab_link": true
    },
    "kernelspec": {
      "name": "python3",
      "display_name": "Python 3"
    }
  },
  "cells": [
    {
      "cell_type": "markdown",
      "metadata": {
        "id": "view-in-github",
        "colab_type": "text"
      },
      "source": [
        "<a href=\"https://colab.research.google.com/github/narayananv10/NLP/blob/Homework/Not_B_Not_G.ipynb\" target=\"_parent\"><img src=\"https://colab.research.google.com/assets/colab-badge.svg\" alt=\"Open In Colab\"/></a>"
      ]
    },
    {
      "cell_type": "code",
      "metadata": {
        "id": "FTtkFZ46FYYl",
        "colab_type": "code",
        "colab": {}
      },
      "source": [
        "import pandas as pd\n",
        "data = pd.read_json('http://snap.stanford.edu/data/amazon/productGraph/categoryFiles/reviews_Office_Products_5.json.gz',lines=True)"
      ],
      "execution_count": 0,
      "outputs": []
    },
    {
      "cell_type": "code",
      "metadata": {
        "id": "Qfh1z0XUF9SZ",
        "colab_type": "code",
        "colab": {}
      },
      "source": [
        "df = pd.DataFrame(data)"
      ],
      "execution_count": 0,
      "outputs": []
    },
    {
      "cell_type": "code",
      "metadata": {
        "id": "1lZoB3-KGBMS",
        "colab_type": "code",
        "colab": {}
      },
      "source": [
        "import re\n",
        "def Not_B_Not_G(l):\n",
        "  not_b = re.findall(r'\\b(?!b|B)\\b\\S+',l)\n",
        "  noWhiteSpace = ' '.join([str(elem) for elem in not_b])\n",
        "  notB_notG = re.findall(r'\\b(\\w*[^gG])\\b[\\W\\s$]',noWhiteSpace)\n",
        "  return notB_notG  "
      ],
      "execution_count": 0,
      "outputs": []
    },
    {
      "cell_type": "code",
      "metadata": {
        "id": "iQbdrsrAJzjD",
        "colab_type": "code",
        "colab": {
          "base_uri": "https://localhost:8080/",
          "height": 119
        },
        "outputId": "87964b9d-5c8b-44f7-e493-a10842f47e7c"
      },
      "source": [
        "df['reviewText_notB_notG'] = df['reviewText'].apply(Not_B_Not_G)\n",
        "df['reviewText_notB_notG'].head()"
      ],
      "execution_count": 10,
      "outputs": [
        {
          "output_type": "execute_result",
          "data": {
            "text/plain": [
              "0    [I, my, first, HP12C, in, about, 1984, or, so,...\n",
              "1    [WHY, THIS, REVIEW, I, feel, very, obliged, to...\n",
              "2    [I, have, an, HP, 48GX, that, has, for, more, ...\n",
              "3    [I, ve, started, more, finance, stuff, recentl...\n",
              "4    [For, simple, calculations, and, discounted, c...\n",
              "Name: reviewText_notB_notG, dtype: object"
            ]
          },
          "metadata": {
            "tags": []
          },
          "execution_count": 10
        }
      ]
    }
  ]
}