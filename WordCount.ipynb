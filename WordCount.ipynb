{
  "nbformat": 4,
  "nbformat_minor": 0,
  "metadata": {
    "colab": {
      "name": "WordCount.ipynb",
      "provenance": [],
      "include_colab_link": true
    },
    "kernelspec": {
      "name": "python3",
      "display_name": "Python 3"
    }
  },
  "cells": [
    {
      "cell_type": "markdown",
      "metadata": {
        "id": "view-in-github",
        "colab_type": "text"
      },
      "source": [
        "<a href=\"https://colab.research.google.com/github/narayananv10/NLP/blob/Classwork/WordCount.ipynb\" target=\"_parent\"><img src=\"https://colab.research.google.com/assets/colab-badge.svg\" alt=\"Open In Colab\"/></a>"
      ]
    },
    {
      "cell_type": "code",
      "metadata": {
        "id": "KOLyRF7wg1Tk",
        "colab_type": "code",
        "colab": {}
      },
      "source": [
        "import pandas as pd\n",
        "data = pd.read_json('http://snap.stanford.edu/data/amazon/productGraph/categoryFiles/reviews_Office_Products_5.json.gz',lines=True)"
      ],
      "execution_count": 0,
      "outputs": []
    },
    {
      "cell_type": "code",
      "metadata": {
        "id": "zCFyLw42kb1s",
        "colab_type": "code",
        "colab": {}
      },
      "source": [
        "df = pd.DataFrame(data)"
      ],
      "execution_count": 0,
      "outputs": []
    },
    {
      "cell_type": "code",
      "metadata": {
        "id": "VlCcVGKU32ti",
        "colab_type": "code",
        "colab": {}
      },
      "source": [
        "def word_count(str):\n",
        "  count = dict()\n",
        "  word = str.split()\n",
        "  for w in word:\n",
        "    if w in count:\n",
        "      count[w]+=1\n",
        "    else:\n",
        "      count[w]=1\n",
        "  return count"
      ],
      "execution_count": 0,
      "outputs": []
    },
    {
      "cell_type": "code",
      "metadata": {
        "id": "bR-WW6rBjd3B",
        "colab_type": "code",
        "colab": {}
      },
      "source": [
        "df['reviewText_word_count'] = df['reviewText'].apply(word_count)\n",
        "df['summary'] = df['summary'].apply(word_count)"
      ],
      "execution_count": 0,
      "outputs": []
    },
    {
      "cell_type": "code",
      "metadata": {
        "id": "UNHWfep756rX",
        "colab_type": "code",
        "outputId": "4fbf431a-aab8-4fc6-8e0e-7aab5a7074a6",
        "colab": {
          "base_uri": "https://localhost:8080/",
          "height": 340
        }
      },
      "source": [
        "df.head()"
      ],
      "execution_count": 0,
      "outputs": [
        {
          "output_type": "execute_result",
          "data": {
            "text/html": [
              "<div>\n",
              "<style scoped>\n",
              "    .dataframe tbody tr th:only-of-type {\n",
              "        vertical-align: middle;\n",
              "    }\n",
              "\n",
              "    .dataframe tbody tr th {\n",
              "        vertical-align: top;\n",
              "    }\n",
              "\n",
              "    .dataframe thead th {\n",
              "        text-align: right;\n",
              "    }\n",
              "</style>\n",
              "<table border=\"1\" class=\"dataframe\">\n",
              "  <thead>\n",
              "    <tr style=\"text-align: right;\">\n",
              "      <th></th>\n",
              "      <th>reviewerID</th>\n",
              "      <th>asin</th>\n",
              "      <th>reviewerName</th>\n",
              "      <th>helpful</th>\n",
              "      <th>reviewText</th>\n",
              "      <th>overall</th>\n",
              "      <th>summary</th>\n",
              "      <th>unixReviewTime</th>\n",
              "      <th>reviewTime</th>\n",
              "      <th>reviewText_word_count</th>\n",
              "    </tr>\n",
              "  </thead>\n",
              "  <tbody>\n",
              "    <tr>\n",
              "      <th>0</th>\n",
              "      <td>A32T2H8150OJLU</td>\n",
              "      <td>B00000JBLH</td>\n",
              "      <td>ARH</td>\n",
              "      <td>[3, 4]</td>\n",
              "      <td>I bought my first HP12C in about 1984 or so, a...</td>\n",
              "      <td>5</td>\n",
              "      <td>{'A': 1, 'solid': 1, 'performer,': 1, 'and': 1...</td>\n",
              "      <td>1094169600</td>\n",
              "      <td>09 3, 2004</td>\n",
              "      <td>{'I': 7, 'bought': 1, 'my': 4, 'first': 1, 'HP...</td>\n",
              "    </tr>\n",
              "    <tr>\n",
              "      <th>1</th>\n",
              "      <td>A3MAFS04ZABRGO</td>\n",
              "      <td>B00000JBLH</td>\n",
              "      <td>Let it Be \"Alan\"</td>\n",
              "      <td>[7, 9]</td>\n",
              "      <td>WHY THIS BELATED REVIEW? I feel very obliged t...</td>\n",
              "      <td>5</td>\n",
              "      <td>{'Price': 1, 'of': 1, 'GOLD': 1, 'is': 1, 'up,...</td>\n",
              "      <td>1197676800</td>\n",
              "      <td>12 15, 2007</td>\n",
              "      <td>{'WHY': 1, 'THIS': 2, 'BELATED': 1, 'REVIEW?':...</td>\n",
              "    </tr>\n",
              "    <tr>\n",
              "      <th>2</th>\n",
              "      <td>A1F1A0QQP2XVH5</td>\n",
              "      <td>B00000JBLH</td>\n",
              "      <td>Mark B</td>\n",
              "      <td>[3, 3]</td>\n",
              "      <td>I have an HP 48GX that has been kicking for mo...</td>\n",
              "      <td>2</td>\n",
              "      <td>{'Good': 1, 'functionality,': 1, 'but': 1, 'no...</td>\n",
              "      <td>1293840000</td>\n",
              "      <td>01 1, 2011</td>\n",
              "      <td>{'I': 2, 'have': 2, 'an': 2, 'HP': 3, '48GX': ...</td>\n",
              "    </tr>\n",
              "    <tr>\n",
              "      <th>3</th>\n",
              "      <td>A49R5DBXXQDE5</td>\n",
              "      <td>B00000JBLH</td>\n",
              "      <td>R. D Johnson</td>\n",
              "      <td>[7, 8]</td>\n",
              "      <td>I've started doing more finance stuff recently...</td>\n",
              "      <td>5</td>\n",
              "      <td>{'One': 1, 'of': 2, 'the': 1, 'last': 1, 'an':...</td>\n",
              "      <td>1145404800</td>\n",
              "      <td>04 19, 2006</td>\n",
              "      <td>{'I've': 4, 'started': 1, 'doing': 2, 'more': ...</td>\n",
              "    </tr>\n",
              "    <tr>\n",
              "      <th>4</th>\n",
              "      <td>A2XRMQA6PJ5ZJ8</td>\n",
              "      <td>B00000JBLH</td>\n",
              "      <td>Roger J. Buffington</td>\n",
              "      <td>[0, 0]</td>\n",
              "      <td>For simple calculations and discounted cash fl...</td>\n",
              "      <td>5</td>\n",
              "      <td>{'Still': 1, 'the': 1, 'best': 1}</td>\n",
              "      <td>1375574400</td>\n",
              "      <td>08 4, 2013</td>\n",
              "      <td>{'For': 1, 'simple': 1, 'calculations': 2, 'an...</td>\n",
              "    </tr>\n",
              "  </tbody>\n",
              "</table>\n",
              "</div>"
            ],
            "text/plain": [
              "       reviewerID  ...                              reviewText_word_count\n",
              "0  A32T2H8150OJLU  ...  {'I': 7, 'bought': 1, 'my': 4, 'first': 1, 'HP...\n",
              "1  A3MAFS04ZABRGO  ...  {'WHY': 1, 'THIS': 2, 'BELATED': 1, 'REVIEW?':...\n",
              "2  A1F1A0QQP2XVH5  ...  {'I': 2, 'have': 2, 'an': 2, 'HP': 3, '48GX': ...\n",
              "3   A49R5DBXXQDE5  ...  {'I've': 4, 'started': 1, 'doing': 2, 'more': ...\n",
              "4  A2XRMQA6PJ5ZJ8  ...  {'For': 1, 'simple': 1, 'calculations': 2, 'an...\n",
              "\n",
              "[5 rows x 10 columns]"
            ]
          },
          "metadata": {
            "tags": []
          },
          "execution_count": 7
        }
      ]
    },
    {
      "cell_type": "code",
      "metadata": {
        "id": "EMHIyVI7jxpq",
        "colab_type": "code",
        "colab": {}
      },
      "source": [
        "def count(str):\n",
        "  wordCount = {'vowels':0,'cons':0,'count':0}\n",
        "  str = str.lower()\n",
        "  wordCount['count']=words(str)\n",
        "  for i in range(0,len(str)):\n",
        "    if str[i] in ('a','e','i','o','u'):\n",
        "      wordCount['vowels']+=1\n",
        "    else:\n",
        "      wordCount['cons']+=1\n",
        "    \n",
        "  return wordCount"
      ],
      "execution_count": 0,
      "outputs": []
    },
    {
      "cell_type": "code",
      "metadata": {
        "id": "82SqZtHrsHPc",
        "colab_type": "code",
        "colab": {}
      },
      "source": [
        "def words(str):\n",
        "  words = str.split()\n",
        "  count = 0\n",
        "  for w in words:\n",
        "    count+=1\n",
        "  return count"
      ],
      "execution_count": 0,
      "outputs": []
    },
    {
      "cell_type": "code",
      "metadata": {
        "id": "OUl5bYH3m96P",
        "colab_type": "code",
        "colab": {}
      },
      "source": [
        "df['reviewText_count'] = df['reviewText'].apply(count)"
      ],
      "execution_count": 0,
      "outputs": []
    },
    {
      "cell_type": "code",
      "metadata": {
        "id": "ecAUt3c9qWcC",
        "colab_type": "code",
        "outputId": "2b3cd406-f5a4-4efc-c96b-9b6cce6cc38e",
        "colab": {
          "base_uri": "https://localhost:8080/",
          "height": 119
        }
      },
      "source": [
        "df['reviewText_count'].head()"
      ],
      "execution_count": 0,
      "outputs": [
        {
          "output_type": "execute_result",
          "data": {
            "text/plain": [
              "0      {'vowels': 279, 'cons': 693, 'count': 186}\n",
              "1    {'vowels': 1504, 'cons': 3851, 'count': 911}\n",
              "2       {'vowels': 134, 'cons': 361, 'count': 96}\n",
              "3    {'vowels': 1089, 'cons': 2559, 'count': 603}\n",
              "4      {'vowels': 208, 'cons': 496, 'count': 120}\n",
              "Name: reviewText_count, dtype: object"
            ]
          },
          "metadata": {
            "tags": []
          },
          "execution_count": 36
        }
      ]
    },
    {
      "cell_type": "code",
      "metadata": {
        "id": "zfSqrwxyuVjZ",
        "colab_type": "code",
        "colab": {}
      },
      "source": [
        "#import re\n",
        "#def BorG(str):\n",
        "#  b_or_g = {'count_b':0,'count_g':0}\n",
        "#  word = str.split()\n",
        "#\n",
        "#  for w in word:\n",
        "#    w = re.sub(\"[^\\w\\s]\", \"\",w)\n",
        "#    b = re.findall(\"^B.|^b.\",w)\n",
        "#    g = re.findall(\"g$\",w)\n",
        "# \n",
        "#    for i in b:\n",
        "#      b_or_g['count_b']+=1\n",
        "#    for i in g:\n",
        "#      b_or_g['count_g']+=1\n",
        "# return b_or_g\n",
        "\n",
        "def beginbBendgG(l):\n",
        "    \n",
        "    l1 = re.findall(r'\\b[bB]\\w+', l)\n",
        "    n = re.findall(r'\\b\\w+[gG]\\b',l)\n",
        "    for x in n:\n",
        "        if x not in l1:\n",
        "            l1.append(x)\n",
        "\n",
        "    return l1"
      ],
      "execution_count": 0,
      "outputs": []
    },
    {
      "cell_type": "code",
      "metadata": {
        "id": "CgZHuHAdxDTS",
        "colab_type": "code",
        "colab": {}
      },
      "source": [
        "df['reviewText_B_or_G'] = df['reviewText'].apply(beginbBendgG)"
      ],
      "execution_count": 0,
      "outputs": []
    },
    {
      "cell_type": "code",
      "metadata": {
        "id": "3tJmQN5Sxvgp",
        "colab_type": "code",
        "outputId": "29e4e573-b74c-418d-edc8-c76a31c08ba5",
        "colab": {
          "base_uri": "https://localhost:8080/",
          "height": 119
        }
      },
      "source": [
        "df['reviewText_B_or_G'].head()"
      ],
      "execution_count": 0,
      "outputs": [
        {
          "output_type": "execute_result",
          "data": {
            "text/plain": [
              "0    [bought, but, by, buy, but, be, but, best, be,...\n",
              "1    [BELATED, burying, brandname, best, business, ...\n",
              "2                [been, But, kicking, giving, working]\n",
              "3    [been, because, but, buy, Black, But, beats, b...\n",
              "4    [best, business, but, be, brackets, practicing...\n",
              "Name: reviewText_B_or_G, dtype: object"
            ]
          },
          "metadata": {
            "tags": []
          },
          "execution_count": 88
        }
      ]
    }
  ]
}