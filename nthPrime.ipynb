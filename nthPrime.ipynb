def prime(num):
  factor = 2
  while(factor < num):
    if num%factor==0:
      return False
    factor+=1
  return True

def prime_num(n):
  if n==1:
    return 2
  count = 1
  num = 2
  while(count<=n):
    num+=2
    if prime(num):
      count+=1
      if count == n:
        return num
    
