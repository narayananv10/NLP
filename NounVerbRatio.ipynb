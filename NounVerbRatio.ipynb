{
  "nbformat": 4,
  "nbformat_minor": 0,
  "metadata": {
    "colab": {
      "name": "NounVerbRatio.ipynb",
      "provenance": [],
      "collapsed_sections": [],
      "include_colab_link": true
    },
    "kernelspec": {
      "name": "python3",
      "display_name": "Python 3"
    },
    "accelerator": "TPU"
  },
  "cells": [
    {
      "cell_type": "markdown",
      "metadata": {
        "id": "view-in-github",
        "colab_type": "text"
      },
      "source": [
        "<a href=\"https://colab.research.google.com/github/narayananv10/NLP/blob/Homework/NounVerbRatio.ipynb\" target=\"_parent\"><img src=\"https://colab.research.google.com/assets/colab-badge.svg\" alt=\"Open In Colab\"/></a>"
      ]
    },
    {
      "cell_type": "code",
      "metadata": {
        "id": "Awb2Rctgkied",
        "colab_type": "code",
        "colab": {}
      },
      "source": [
        "import pandas as pd\n",
        "import spacy"
      ],
      "execution_count": 0,
      "outputs": []
    },
    {
      "cell_type": "code",
      "metadata": {
        "id": "2AYXX3FRlItI",
        "colab_type": "code",
        "colab": {}
      },
      "source": [
        "data = pd.read_json('http://snap.stanford.edu/data/amazon/productGraph/categoryFiles/reviews_Office_Products_5.json.gz',lines=True)\n",
        "df = pd.DataFrame(data)"
      ],
      "execution_count": 0,
      "outputs": []
    },
    {
      "cell_type": "code",
      "metadata": {
        "id": "-3w_u-mClK0y",
        "colab_type": "code",
        "colab": {}
      },
      "source": [
        "sp = spacy.load('en_core_web_sm')"
      ],
      "execution_count": 0,
      "outputs": []
    },
    {
      "cell_type": "code",
      "metadata": {
        "id": "w-H5Zre6lmLQ",
        "colab_type": "code",
        "colab": {
          "base_uri": "https://localhost:8080/",
          "height": 1000
        },
        "outputId": "f0ffc97c-7c20-408e-ed37-2a41db5c2fae"
      },
      "source": [
        "txt = df['reviewText'][0]\n",
        "s = sp(txt)\n",
        "for i in s:\n",
        "  print(i.pos_)"
      ],
      "execution_count": 4,
      "outputs": [
        {
          "output_type": "stream",
          "text": [
            "PRON\n",
            "VERB\n",
            "DET\n",
            "ADJ\n",
            "NOUN\n",
            "ADP\n",
            "ADV\n",
            "NUM\n",
            "CCONJ\n",
            "ADV\n",
            "PUNCT\n",
            "CCONJ\n",
            "PRON\n",
            "VERB\n",
            "PRON\n",
            "ADV\n",
            "ADP\n",
            "NUM\n",
            "ADV\n",
            "PRON\n",
            "VERB\n",
            "PRON\n",
            "ADP\n",
            "VERB\n",
            "PUNCT\n",
            "SPACE\n",
            "PRON\n",
            "VERB\n",
            "ADP\n",
            "DET\n",
            "NOUN\n",
            "PART\n",
            "VERB\n",
            "PRON\n",
            "PUNCT\n",
            "CCONJ\n",
            "VERB\n",
            "NUM\n",
            "ADJ\n",
            "PART\n",
            "VERB\n",
            "PART\n",
            "ADP\n",
            "DET\n",
            "NOUN\n",
            "PUNCT\n",
            "SPACE\n",
            "ADV\n",
            "PUNCT\n",
            "PRON\n",
            "VERB\n",
            "PART\n",
            "VERB\n",
            "PART\n",
            "CCONJ\n",
            "VERB\n",
            "DET\n",
            "PROPN\n",
            "NUM\n",
            "SPACE\n",
            "DET\n",
            "DET\n",
            "NOUN\n",
            "PUNCT\n",
            "SPACE\n",
            "PRON\n",
            "VERB\n",
            "ADP\n",
            "ADJ\n",
            "NOUN\n",
            "VERB\n",
            "DET\n",
            "PROPN\n",
            "NUM\n",
            "PROPN\n",
            "PUNCT\n",
            "ADV\n",
            "NUM\n",
            "PUNCT\n",
            "ADP\n",
            "DET\n",
            "NOUN\n",
            "ADP\n",
            "DET\n",
            "PROPN\n",
            "NOUN\n",
            "PUNCT\n",
            "CCONJ\n",
            "ADP\n",
            "PRON\n",
            "DET\n",
            "VERB\n",
            "DET\n",
            "NOUN\n",
            "PUNCT\n",
            "DET\n",
            "NUM\n",
            "NOUN\n",
            "VERB\n",
            "VERB\n",
            "ADJ\n",
            "PUNCT\n",
            "CCONJ\n",
            "VERB\n",
            "PRON\n",
            "VERB\n",
            "ADV\n",
            "ADJ\n",
            "PUNCT\n",
            "CCONJ\n",
            "DET\n",
            "NOUN\n",
            "VERB\n",
            "ADJ\n",
            "ADP\n",
            "ADJ\n",
            "PUNCT\n",
            "SPACE\n",
            "DET\n",
            "NUM\n",
            "PUNCT\n",
            "ADP\n",
            "DET\n",
            "ADJ\n",
            "NOUN\n",
            "PUNCT\n",
            "VERB\n",
            "PRON\n",
            "PRON\n",
            "VERB\n",
            "ADP\n",
            "DET\n",
            "NOUN\n",
            "DET\n",
            "VERB\n",
            "ADJ\n",
            "NOUN\n",
            "ADP\n",
            "PRON\n",
            "PUNCT\n",
            "ADP\n",
            "PRON\n",
            "VERB\n",
            "VERB\n",
            "ADP\n",
            "DET\n",
            "ADJ\n",
            "PUNCT\n",
            "ADJ\n",
            "NOUN\n",
            "PUNCT\n",
            "DET\n",
            "NOUN\n",
            "VERB\n",
            "VERB\n",
            "ADP\n",
            "PRON\n",
            "PUNCT\n",
            "SPACE\n",
            "PRON\n",
            "VERB\n",
            "ADJ\n",
            "PUNCT\n",
            "SPACE\n",
            "PRON\n",
            "VERB\n",
            "ADJ\n",
            "NOUN\n",
            "ADV\n",
            "PUNCT\n",
            "CCONJ\n",
            "ADJ\n",
            "NOUN\n",
            "NOUN\n",
            "ADV\n",
            "PUNCT\n",
            "SPACE\n",
            "DET\n",
            "NOUN\n",
            "VERB\n",
            "NOUN\n",
            "PUNCT\n",
            "PRON\n",
            "VERB\n",
            "VERB\n",
            "ADV\n",
            "CCONJ\n",
            "VERB\n",
            "ADP\n",
            "ADJ\n",
            "NOUN\n",
            "PUNCT\n",
            "PRON\n",
            "ADJ\n",
            "PART\n",
            "VERB\n",
            "DET\n",
            "NUM\n",
            "NOUN\n",
            "ADV\n",
            "CCONJ\n",
            "VERB\n",
            "ADV\n",
            "ADP\n",
            "DET\n",
            "ADJ\n",
            "NOUN\n",
            "PUNCT\n",
            "SPACE\n",
            "PRON\n",
            "VERB\n",
            "ADV\n",
            "ADV\n",
            "VERB\n",
            "PART\n",
            "VERB\n",
            "DET\n",
            "NOUN\n",
            "ADP\n",
            "ADV\n",
            "ADP\n",
            "DET\n",
            "NOUN\n",
            "ADP\n",
            "ADJ\n",
            "NUM\n",
            "PUNCT\n",
            "PRON\n",
            "VERB\n",
            "VERB\n",
            "ADV\n",
            "PUNCT\n"
          ],
          "name": "stdout"
        }
      ]
    },
    {
      "cell_type": "code",
      "metadata": {
        "id": "Seq4AThAlM8Y",
        "colab_type": "code",
        "colab": {}
      },
      "source": [
        "def NounVerbRatio(str):\n",
        "  sentence = sp(str)\n",
        "  verb = []\n",
        "  noun = []\n",
        "  for i in sentence :\n",
        "    if i.pos_ == 'VERB':\n",
        "      verb.append(i.text)\n",
        "    if i.pos_== 'NOUN':\n",
        "      noun.append(i.text)\n",
        "  if len(verb)!=0:\n",
        "    ratio = {'Ratio':len(noun)/len(verb)}\n",
        "  else:\n",
        "    ratio = {'Ratio': \"Not defined as no. of verbs is 0\"}\n",
        "  return ratio\n"
      ],
      "execution_count": 0,
      "outputs": []
    },
    {
      "cell_type": "code",
      "metadata": {
        "id": "ruIkeix0liVw",
        "colab_type": "code",
        "colab": {
          "base_uri": "https://localhost:8080/",
          "height": 34
        },
        "outputId": "40ba0865-cc34-41c4-dff4-14adc59d6e01"
      },
      "source": [
        "NounVerbRatio(txt)"
      ],
      "execution_count": 6,
      "outputs": [
        {
          "output_type": "execute_result",
          "data": {
            "text/plain": [
              "{'Ratio': 0.6410256410256411}"
            ]
          },
          "metadata": {
            "tags": []
          },
          "execution_count": 6
        }
      ]
    },
    {
      "cell_type": "code",
      "metadata": {
        "id": "w1PhdDAvnWyD",
        "colab_type": "code",
        "colab": {}
      },
      "source": [
        "df['NounToVerbRatio'] = df['reviewText'].apply(NounVerbRatio)"
      ],
      "execution_count": 0,
      "outputs": []
    },
    {
      "cell_type": "code",
      "metadata": {
        "id": "asT85O2rryrV",
        "colab_type": "code",
        "colab": {
          "base_uri": "https://localhost:8080/",
          "height": 119
        },
        "outputId": "f2c61112-d5ab-45ef-904f-8be05fee938a"
      },
      "source": [
        "df['NounToVerbRatio'].head()"
      ],
      "execution_count": 8,
      "outputs": [
        {
          "output_type": "execute_result",
          "data": {
            "text/plain": [
              "0    {'Ratio': 0.6410256410256411}\n",
              "1    {'Ratio': 1.5763888888888888}\n",
              "2    {'Ratio': 0.8947368421052632}\n",
              "3     {'Ratio': 1.185483870967742}\n",
              "4                  {'Ratio': 1.04}\n",
              "Name: NounToVerbRatio, dtype: object"
            ]
          },
          "metadata": {
            "tags": []
          },
          "execution_count": 8
        }
      ]
    }
  ]
}
