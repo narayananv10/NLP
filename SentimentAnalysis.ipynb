{
  "nbformat": 4,
  "nbformat_minor": 0,
  "metadata": {
    "colab": {
      "name": "SentimentAnalysis.ipynb",
      "provenance": [],
      "collapsed_sections": [],
      "include_colab_link": true
    },
    "kernelspec": {
      "name": "python3",
      "display_name": "Python 3"
    },
    "accelerator": "GPU"
  },
  "cells": [
    {
      "cell_type": "markdown",
      "metadata": {
        "id": "view-in-github",
        "colab_type": "text"
      },
      "source": [
        "<a href=\"https://colab.research.google.com/github/narayananv10/NLP/blob/Classwork/SentimentAnalysis.ipynb\" target=\"_parent\"><img src=\"https://colab.research.google.com/assets/colab-badge.svg\" alt=\"Open In Colab\"/></a>"
      ]
    },
    {
      "cell_type": "code",
      "metadata": {
        "id": "uqKls5Pf1DIJ",
        "colab_type": "code",
        "colab": {}
      },
      "source": [
        "import pandas as pd\n",
        "from textblob import TextBlob as tb\n",
        "from sklearn.metrics import confusion_matrix"
      ],
      "execution_count": 0,
      "outputs": []
    },
    {
      "cell_type": "code",
      "metadata": {
        "id": "bZy19qvM0ul8",
        "colab_type": "code",
        "colab": {}
      },
      "source": [
        "url = 'https://raw.githubusercontent.com/zfz/twitter_corpus/master/full-corpus.csv'\n",
        "data = pd.read_csv(url)\n",
        "df = pd.DataFrame(data)"
      ],
      "execution_count": 0,
      "outputs": []
    },
    {
      "cell_type": "code",
      "metadata": {
        "id": "Xnc87otzEclE",
        "colab_type": "code",
        "colab": {}
      },
      "source": [
        "url1 = 'http://snap.stanford.edu/data/amazon/productGraph/categoryFiles/reviews_Office_Products_5.json.gz'\n",
        "data1 = pd.read_json(url1, lines = True)\n",
        "df1 = pd.DataFrame(data1)"
      ],
      "execution_count": 0,
      "outputs": []
    },
    {
      "cell_type": "code",
      "metadata": {
        "id": "vOgpxo3u1zm9",
        "colab_type": "code",
        "outputId": "2a4abc91-f2db-4f59-dc64-9bc05cde4f16",
        "colab": {
          "base_uri": "https://localhost:8080/",
          "height": 204
        }
      },
      "source": [
        "df.head()"
      ],
      "execution_count": 4,
      "outputs": [
        {
          "output_type": "execute_result",
          "data": {
            "text/html": [
              "<div>\n",
              "<style scoped>\n",
              "    .dataframe tbody tr th:only-of-type {\n",
              "        vertical-align: middle;\n",
              "    }\n",
              "\n",
              "    .dataframe tbody tr th {\n",
              "        vertical-align: top;\n",
              "    }\n",
              "\n",
              "    .dataframe thead th {\n",
              "        text-align: right;\n",
              "    }\n",
              "</style>\n",
              "<table border=\"1\" class=\"dataframe\">\n",
              "  <thead>\n",
              "    <tr style=\"text-align: right;\">\n",
              "      <th></th>\n",
              "      <th>Topic</th>\n",
              "      <th>Sentiment</th>\n",
              "      <th>TweetId</th>\n",
              "      <th>TweetDate</th>\n",
              "      <th>TweetText</th>\n",
              "    </tr>\n",
              "  </thead>\n",
              "  <tbody>\n",
              "    <tr>\n",
              "      <th>0</th>\n",
              "      <td>apple</td>\n",
              "      <td>positive</td>\n",
              "      <td>126415614616154112</td>\n",
              "      <td>Tue Oct 18 21:53:25 +0000 2011</td>\n",
              "      <td>Now all @Apple has to do is get swype on the i...</td>\n",
              "    </tr>\n",
              "    <tr>\n",
              "      <th>1</th>\n",
              "      <td>apple</td>\n",
              "      <td>positive</td>\n",
              "      <td>126404574230740992</td>\n",
              "      <td>Tue Oct 18 21:09:33 +0000 2011</td>\n",
              "      <td>@Apple will be adding more carrier support to ...</td>\n",
              "    </tr>\n",
              "    <tr>\n",
              "      <th>2</th>\n",
              "      <td>apple</td>\n",
              "      <td>positive</td>\n",
              "      <td>126402758403305474</td>\n",
              "      <td>Tue Oct 18 21:02:20 +0000 2011</td>\n",
              "      <td>Hilarious @youtube video - guy does a duet wit...</td>\n",
              "    </tr>\n",
              "    <tr>\n",
              "      <th>3</th>\n",
              "      <td>apple</td>\n",
              "      <td>positive</td>\n",
              "      <td>126397179614068736</td>\n",
              "      <td>Tue Oct 18 20:40:10 +0000 2011</td>\n",
              "      <td>@RIM you made it too easy for me to switch to ...</td>\n",
              "    </tr>\n",
              "    <tr>\n",
              "      <th>4</th>\n",
              "      <td>apple</td>\n",
              "      <td>positive</td>\n",
              "      <td>126395626979196928</td>\n",
              "      <td>Tue Oct 18 20:34:00 +0000 2011</td>\n",
              "      <td>I just realized that the reason I got into twi...</td>\n",
              "    </tr>\n",
              "  </tbody>\n",
              "</table>\n",
              "</div>"
            ],
            "text/plain": [
              "   Topic  ...                                          TweetText\n",
              "0  apple  ...  Now all @Apple has to do is get swype on the i...\n",
              "1  apple  ...  @Apple will be adding more carrier support to ...\n",
              "2  apple  ...  Hilarious @youtube video - guy does a duet wit...\n",
              "3  apple  ...  @RIM you made it too easy for me to switch to ...\n",
              "4  apple  ...  I just realized that the reason I got into twi...\n",
              "\n",
              "[5 rows x 5 columns]"
            ]
          },
          "metadata": {
            "tags": []
          },
          "execution_count": 4
        }
      ]
    },
    {
      "cell_type": "code",
      "metadata": {
        "id": "q8cKh0Uw13e6",
        "colab_type": "code",
        "outputId": "1e1f4a03-4fd9-48a8-ea2a-503b697132e6",
        "colab": {
          "base_uri": "https://localhost:8080/",
          "height": 34
        }
      },
      "source": [
        "df.shape"
      ],
      "execution_count": 5,
      "outputs": [
        {
          "output_type": "execute_result",
          "data": {
            "text/plain": [
              "(5113, 5)"
            ]
          },
          "metadata": {
            "tags": []
          },
          "execution_count": 5
        }
      ]
    },
    {
      "cell_type": "code",
      "metadata": {
        "id": "aDUdg81z2Ior",
        "colab_type": "code",
        "outputId": "9c4af302-fb1c-4902-824f-693708ba854d",
        "colab": {
          "base_uri": "https://localhost:8080/",
          "height": 34
        }
      },
      "source": [
        "tb(df.TweetText[4]).sentiment"
      ],
      "execution_count": 6,
      "outputs": [
        {
          "output_type": "execute_result",
          "data": {
            "text/plain": [
              "Sentiment(polarity=0.2, subjectivity=0.2)"
            ]
          },
          "metadata": {
            "tags": []
          },
          "execution_count": 6
        }
      ]
    },
    {
      "cell_type": "code",
      "metadata": {
        "id": "ZlSp4dFt5aek",
        "colab_type": "code",
        "colab": {}
      },
      "source": [
        "def TextSent(str):\n",
        "  return tb(str).sentiment.polarity"
      ],
      "execution_count": 0,
      "outputs": []
    },
    {
      "cell_type": "code",
      "metadata": {
        "id": "T5LSOcEc5p4S",
        "colab_type": "code",
        "outputId": "6986e302-3545-4868-de20-33bbf913af9c",
        "colab": {
          "base_uri": "https://localhost:8080/",
          "height": 71
        }
      },
      "source": [
        "df.SentimentPolarity = df.TweetText.apply(TextSent)"
      ],
      "execution_count": 8,
      "outputs": [
        {
          "output_type": "stream",
          "text": [
            "/usr/local/lib/python3.6/dist-packages/ipykernel_launcher.py:1: UserWarning: Pandas doesn't allow columns to be created via a new attribute name - see https://pandas.pydata.org/pandas-docs/stable/indexing.html#attribute-access\n",
            "  \"\"\"Entry point for launching an IPython kernel.\n"
          ],
          "name": "stderr"
        }
      ]
    },
    {
      "cell_type": "code",
      "metadata": {
        "id": "Vo3yyHeIEtRH",
        "colab_type": "code",
        "outputId": "c50eeaa2-94e7-491d-f645-1105fa783f42",
        "colab": {
          "base_uri": "https://localhost:8080/",
          "height": 71
        }
      },
      "source": [
        "df1.reviewTextPolarity = df1.reviewText.apply(TextSent)"
      ],
      "execution_count": 9,
      "outputs": [
        {
          "output_type": "stream",
          "text": [
            "/usr/local/lib/python3.6/dist-packages/ipykernel_launcher.py:1: UserWarning: Pandas doesn't allow columns to be created via a new attribute name - see https://pandas.pydata.org/pandas-docs/stable/indexing.html#attribute-access\n",
            "  \"\"\"Entry point for launching an IPython kernel.\n"
          ],
          "name": "stderr"
        }
      ]
    },
    {
      "cell_type": "code",
      "metadata": {
        "id": "TMDj4IgU5yHm",
        "colab_type": "code",
        "outputId": "ca3bf7a1-ad34-4b09-a48f-2114ffbd961c",
        "colab": {
          "base_uri": "https://localhost:8080/",
          "height": 119
        }
      },
      "source": [
        "df.SentimentPolarity.head()"
      ],
      "execution_count": 10,
      "outputs": [
        {
          "output_type": "execute_result",
          "data": {
            "text/plain": [
              "0    0.000000\n",
              "1    0.500000\n",
              "2    0.393750\n",
              "3    0.541667\n",
              "4    0.200000\n",
              "Name: TweetText, dtype: float64"
            ]
          },
          "metadata": {
            "tags": []
          },
          "execution_count": 10
        }
      ]
    },
    {
      "cell_type": "code",
      "metadata": {
        "id": "rPbu7Z2_E994",
        "colab_type": "code",
        "outputId": "398a45e6-a475-424b-b04d-34bf84ecd6c3",
        "colab": {
          "base_uri": "https://localhost:8080/",
          "height": 119
        }
      },
      "source": [
        "df1.reviewTextPolarity.head()"
      ],
      "execution_count": 11,
      "outputs": [
        {
          "output_type": "execute_result",
          "data": {
            "text/plain": [
              "0    0.180000\n",
              "1    0.170939\n",
              "2    0.204091\n",
              "3    0.214217\n",
              "4    0.350000\n",
              "Name: reviewText, dtype: float64"
            ]
          },
          "metadata": {
            "tags": []
          },
          "execution_count": 11
        }
      ]
    },
    {
      "cell_type": "code",
      "metadata": {
        "id": "S-GF4Rxn_uUr",
        "colab_type": "code",
        "outputId": "44477b73-4c3e-43d4-d44b-5114f2e66cc7",
        "colab": {
          "base_uri": "https://localhost:8080/",
          "height": 122
        }
      },
      "source": [
        "!pip install vaderSentiment"
      ],
      "execution_count": 12,
      "outputs": [
        {
          "output_type": "stream",
          "text": [
            "Collecting vaderSentiment\n",
            "\u001b[?25l  Downloading https://files.pythonhosted.org/packages/86/9e/c53e1fc61aac5ee490a6ac5e21b1ac04e55a7c2aba647bb8411c9aadf24e/vaderSentiment-3.2.1-py2.py3-none-any.whl (125kB)\n",
            "\r\u001b[K     |██▋                             | 10kB 31.4MB/s eta 0:00:01\r\u001b[K     |█████▏                          | 20kB 5.9MB/s eta 0:00:01\r\u001b[K     |███████▉                        | 30kB 8.4MB/s eta 0:00:01\r\u001b[K     |██████████▍                     | 40kB 5.5MB/s eta 0:00:01\r\u001b[K     |█████████████                   | 51kB 6.8MB/s eta 0:00:01\r\u001b[K     |███████████████▋                | 61kB 8.0MB/s eta 0:00:01\r\u001b[K     |██████████████████▎             | 71kB 9.1MB/s eta 0:00:01\r\u001b[K     |████████████████████▉           | 81kB 10.1MB/s eta 0:00:01\r\u001b[K     |███████████████████████▍        | 92kB 11.2MB/s eta 0:00:01\r\u001b[K     |██████████████████████████      | 102kB 9.1MB/s eta 0:00:01\r\u001b[K     |████████████████████████████▋   | 112kB 9.1MB/s eta 0:00:01\r\u001b[K     |███████████████████████████████▎| 122kB 9.1MB/s eta 0:00:01\r\u001b[K     |████████████████████████████████| 133kB 9.1MB/s \n",
            "\u001b[?25hInstalling collected packages: vaderSentiment\n",
            "Successfully installed vaderSentiment-3.2.1\n"
          ],
          "name": "stdout"
        }
      ]
    },
    {
      "cell_type": "code",
      "metadata": {
        "id": "RCDMNH3h70jZ",
        "colab_type": "code",
        "colab": {}
      },
      "source": [
        "from vaderSentiment.vaderSentiment import SentimentIntensityAnalyzer\n",
        "analyser = SentimentIntensityAnalyzer()"
      ],
      "execution_count": 0,
      "outputs": []
    },
    {
      "cell_type": "code",
      "metadata": {
        "id": "9i2ff41p74pP",
        "colab_type": "code",
        "colab": {}
      },
      "source": [
        "def vaderpolarity(str):\n",
        "  score = analyser.polarity_scores(str)\n",
        "  if score['compound'] <= -0.5:\n",
        "    return 'negative'\n",
        "  if score['compound'] >= 0.5:\n",
        "    return 'positive'\n",
        "  else:\n",
        "    return 'neutral'"
      ],
      "execution_count": 0,
      "outputs": []
    },
    {
      "cell_type": "code",
      "metadata": {
        "id": "mzieOC8vACv5",
        "colab_type": "code",
        "colab": {
          "base_uri": "https://localhost:8080/",
          "height": 71
        },
        "outputId": "1c7adb4f-da71-42bb-a2a5-510e4a4e43ad"
      },
      "source": [
        "df.TweetVaderPolarity = df.TweetText.apply(vaderpolarity)"
      ],
      "execution_count": 15,
      "outputs": [
        {
          "output_type": "stream",
          "text": [
            "/usr/local/lib/python3.6/dist-packages/ipykernel_launcher.py:1: UserWarning: Pandas doesn't allow columns to be created via a new attribute name - see https://pandas.pydata.org/pandas-docs/stable/indexing.html#attribute-access\n",
            "  \"\"\"Entry point for launching an IPython kernel.\n"
          ],
          "name": "stderr"
        }
      ]
    },
    {
      "cell_type": "code",
      "metadata": {
        "id": "0TuWFX05FDnh",
        "colab_type": "code",
        "colab": {
          "base_uri": "https://localhost:8080/",
          "height": 71
        },
        "outputId": "f91ebfaf-02ea-42e5-d3f3-5c64d760cd6a"
      },
      "source": [
        "df1.reviewTextVaderPolarity = df1.reviewText.apply(vaderpolarity)"
      ],
      "execution_count": 16,
      "outputs": [
        {
          "output_type": "stream",
          "text": [
            "/usr/local/lib/python3.6/dist-packages/ipykernel_launcher.py:1: UserWarning: Pandas doesn't allow columns to be created via a new attribute name - see https://pandas.pydata.org/pandas-docs/stable/indexing.html#attribute-access\n",
            "  \"\"\"Entry point for launching an IPython kernel.\n"
          ],
          "name": "stderr"
        }
      ]
    },
    {
      "cell_type": "code",
      "metadata": {
        "id": "be1SSICRAMTk",
        "colab_type": "code",
        "outputId": "9f820479-36db-4937-e952-a349c5aba364",
        "colab": {
          "base_uri": "https://localhost:8080/",
          "height": 119
        }
      },
      "source": [
        "df.TweetVaderPolarity.head()"
      ],
      "execution_count": 17,
      "outputs": [
        {
          "output_type": "execute_result",
          "data": {
            "text/plain": [
              "0     neutral\n",
              "1     neutral\n",
              "2    positive\n",
              "3     neutral\n",
              "4     neutral\n",
              "Name: TweetText, dtype: object"
            ]
          },
          "metadata": {
            "tags": []
          },
          "execution_count": 17
        }
      ]
    },
    {
      "cell_type": "code",
      "metadata": {
        "id": "cAhI5VlFDQpV",
        "colab_type": "code",
        "outputId": "832b4bd6-be7f-4a2b-d97b-e2a3c9247c16",
        "colab": {
          "base_uri": "https://localhost:8080/",
          "height": 119
        }
      },
      "source": [
        "df1.reviewTextVaderPolarity.head()"
      ],
      "execution_count": 18,
      "outputs": [
        {
          "output_type": "execute_result",
          "data": {
            "text/plain": [
              "0    positive\n",
              "1    positive\n",
              "2     neutral\n",
              "3    positive\n",
              "4    positive\n",
              "Name: reviewText, dtype: object"
            ]
          },
          "metadata": {
            "tags": []
          },
          "execution_count": 18
        }
      ]
    },
    {
      "cell_type": "code",
      "metadata": {
        "id": "jrYtjReaJH-Q",
        "colab_type": "code",
        "outputId": "41328563-e186-4c89-c997-93fa1b32925c",
        "colab": {
          "base_uri": "https://localhost:8080/",
          "height": 85
        }
      },
      "source": [
        "matrix = confusion_matrix(df.Sentiment,df.TweetVaderPolarity)\n",
        "matrix"
      ],
      "execution_count": 19,
      "outputs": [
        {
          "output_type": "execute_result",
          "data": {
            "text/plain": [
              "array([[   0,   75, 1481,  133],\n",
              "       [   0,  152,  370,   50],\n",
              "       [   0,  105, 1864,  364],\n",
              "       [   0,   19,  255,  245]])"
            ]
          },
          "metadata": {
            "tags": []
          },
          "execution_count": 19
        }
      ]
    },
    {
      "cell_type": "code",
      "metadata": {
        "id": "6uJjO-mxFcrY",
        "colab_type": "code",
        "colab": {}
      },
      "source": [
        "#!pip install glove-python"
      ],
      "execution_count": 0,
      "outputs": []
    },
    {
      "cell_type": "code",
      "metadata": {
        "id": "1IJYKcVH92Tb",
        "colab_type": "code",
        "colab": {}
      },
      "source": [
        ""
      ],
      "execution_count": 0,
      "outputs": []
    }
  ]
}